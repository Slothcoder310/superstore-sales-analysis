{
 "cells": [
  {
   "cell_type": "markdown",
   "id": "15596ef4",
   "metadata": {},
   "source": [
    "# SUPERSTORE SALES ANALYSIS"
   ]
  },
  {
   "cell_type": "markdown",
   "id": "07f1b0d1",
   "metadata": {},
   "source": [
    "### Exploratory Data Analysis ( EDA ) using python, Pandas and Matplotlib\n",
    "---\n",
    "\n",
    "**Objective**\n",
    "To analyze the Superstore dataset and uncover insgihts about sales performance, profit trends , and key business factors across different regions and product categories"
   ]
  },
  {
   "cell_type": "code",
   "execution_count": 1,
   "id": "f3a83d02",
   "metadata": {},
   "outputs": [],
   "source": [
    "# Basic Setup\n",
    "\n",
    "import numpy as np\n",
    "import pandas as pd\n",
    "import matplotlib.pyplot as plt\n",
    "import seaborn as sns"
   ]
  },
  {
   "cell_type": "code",
   "execution_count": 3,
   "id": "0a677fcd",
   "metadata": {},
   "outputs": [],
   "source": [
    "plt.style.use('seaborn-v0_8')\n",
    "sns.set_palette('Set2')\n",
    "\n",
    "pd.set_option('display.max_columns',None)"
   ]
  },
  {
   "cell_type": "markdown",
   "id": "20a7f86e",
   "metadata": {},
   "source": [
    "## Loading Dataset and Quick overview of dataset"
   ]
  },
  {
   "cell_type": "code",
   "execution_count": null,
   "id": "91a4ee9b",
   "metadata": {},
   "outputs": [],
   "source": []
  }
 ],
 "metadata": {
  "kernelspec": {
   "display_name": "datascience-env",
   "language": "python",
   "name": "python3"
  },
  "language_info": {
   "codemirror_mode": {
    "name": "ipython",
    "version": 3
   },
   "file_extension": ".py",
   "mimetype": "text/x-python",
   "name": "python",
   "nbconvert_exporter": "python",
   "pygments_lexer": "ipython3",
   "version": "3.13.5"
  }
 },
 "nbformat": 4,
 "nbformat_minor": 5
}
